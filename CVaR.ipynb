{
 "cells": [
  {
   "cell_type": "code",
   "execution_count": 11,
   "metadata": {},
   "outputs": [],
   "source": [
    "def CVaR_optimization(scenario_returns, alpha=0.95):\n",
    "    S, N = scenario_returns.shape\n",
    "    # Create the model\n",
    "    model = gp.Model(\"CVaR_Bond_Optimization\")\n",
    "\n",
    "    model.setParam('OutputFlag', 0)\n",
    "\n",
    "    # Decision variables\n",
    "    w = model.addVars(N, vtype=GRB.CONTINUOUS, lb=0, name=\"w\")  # weights for bonds\n",
    "    x = model.addVars(N, vtype=GRB.BINARY, name=\"x\")  # binary selection of bonds\n",
    "    VaR = model.addVar(vtype=GRB.CONTINUOUS, name=\"VaR\")  # Value at Risk variable\n",
    "    z = model.addVars(N, vtype=GRB.CONTINUOUS, lb=0, name=\"z\")  # Auxiliary for CVaR\n",
    "\n",
    "    # Constrain the total weight\n",
    "    model.addConstr(quicksum(w[i] for i in range(N)) == 1, \"WeightSum\")\n",
    "\n",
    "    # Deviation from benchmark\n",
    "    deviation_limit = 0.1  # 10% deviation\n",
    "    BenchmarkWeight = 0.01  # 1% in each bond\n",
    "\n",
    "    for i in range(N):\n",
    "        model.addConstr(w[i] >= BenchmarkWeight - deviation_limit * BenchmarkWeight)\n",
    "        model.addConstr(w[i] <= BenchmarkWeight + deviation_limit * BenchmarkWeight)\n",
    "\n",
    "    for s in range(S):\n",
    "        model.addConstr(\n",
    "            z[s] >= gp.quicksum(w[i] * scenario_returns[s, i] for i in range(N)) - VaR,\n",
    "            name=f\"CVaR_Constraint_{s}\"\n",
    "        )\n",
    "\n",
    "    # Objective function: Minimize CVaR risk (USING S)\n",
    "    model.setObjective(\n",
    "        VaR + (1 / (S * (1 - alpha))) * gp.quicksum(z[s] for s in range(S)),\n",
    "        GRB.MINIMIZE\n",
    "    )\n",
    "\n",
    "    # Optimize the model\n",
    "    model.optimize()\n",
    "\n",
    "    if model.status == GRB.OPTIMAL:\n",
    "        #print(\"Optimal solution found. List of all weights:\")\n",
    "        weights = [w[i].X for i in range(N)]  # Get the optimized weights for bonds\n",
    "        return np.array(weights)\n",
    "\n",
    "    if model.status == GRB.INFEASIBLE:\n",
    "        print(\"The model is infeasible.\")\n",
    "        return None\n"
   ]
  }
 ],
 "metadata": {
  "kernelspec": {
   "display_name": "base",
   "language": "python",
   "name": "python3"
  },
  "language_info": {
   "codemirror_mode": {
    "name": "ipython",
    "version": 3
   },
   "file_extension": ".py",
   "mimetype": "text/x-python",
   "name": "python",
   "nbconvert_exporter": "python",
   "pygments_lexer": "ipython3",
   "version": "3.11.5"
  }
 },
 "nbformat": 4,
 "nbformat_minor": 2
}
